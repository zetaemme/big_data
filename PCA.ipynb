{
 "cells": [
  {
   "cell_type": "code",
   "execution_count": null,
   "id": "6b640cad",
   "metadata": {},
   "outputs": [],
   "source": [
    "import sys\n",
    "\n",
    "sys.path.append(\"..\")\n",
    "\n",
    "from utils.read import read_fvecs"
   ]
  },
  {
   "cell_type": "markdown",
   "id": "649592dd",
   "metadata": {},
   "source": [
    "# PCA\n",
    "## Caricamento del Dataset\n",
    "Proviamo in primis a caricare il Dataset, una matrice 10000x128 di `np.float32`"
   ]
  },
  {
   "cell_type": "code",
   "execution_count": null,
   "id": "223b256c",
   "metadata": {},
   "outputs": [],
   "source": [
    "dataset = read_fvecs(\"../data/siftsmall_base.fvecs\")"
   ]
  },
  {
   "cell_type": "markdown",
   "id": "b61f87d3",
   "metadata": {},
   "source": [
    "## Creazione RDD\n",
    "Ora tramite `parallelize()` creiamo l'RDD che conterrà la matrice"
   ]
  },
  {
   "cell_type": "code",
   "execution_count": null,
   "id": "c6003d14",
   "metadata": {},
   "outputs": [],
   "source": [
    "rdd = sc.parallelize(dataset)"
   ]
  },
  {
   "cell_type": "markdown",
   "id": "4e1cd777",
   "metadata": {},
   "source": [
    "## Dati per PCA\n",
    "Per procedere all'esecuzione di PCA ci servono dei dati di partenza quali:\n",
    "* N: Dimensione del dataset\n",
    "* dim: Dimensionalità del dataset\n",
    "* mean: Media del dataset\n",
    "* cov: Matrice di covarianza"
   ]
  },
  {
   "cell_type": "code",
   "execution_count": null,
   "id": "2876c735",
   "metadata": {},
   "outputs": [],
   "source": [
    "import numpy as np\n",
    "\n",
    "mean = np.mean(rdd.collect(), axis=0)\n",
    "cov = np.cov(rdd.collect())"
   ]
  },
  {
   "cell_type": "markdown",
   "id": "b2f05be9",
   "metadata": {},
   "source": [
    "## Autovettori e Autovalori\n",
    "Calcolo degli autovettori e autovalori a partire da `cov` e sorting"
   ]
  },
  {
   "cell_type": "code",
   "execution_count": null,
   "id": "0d14c8a7",
   "metadata": {},
   "outputs": [],
   "source": [
    "eigval, eigvec = np.linalg.eig(cov)"
   ]
  },
  {
   "cell_type": "markdown",
   "id": "4abc08d3",
   "metadata": {},
   "source": [
    "## Plotting\n",
    "Come è possibile vedere: \n",
    "* Con 12 PC abbiamo rappresentatività per (circa) il 70% del dataset \n",
    "* Con 6 (circa) il 60%\n",
    "* Con 3 tra il 50% ed il 60%"
   ]
  },
  {
   "cell_type": "code",
   "execution_count": null,
   "id": "636e875e",
   "metadata": {},
   "outputs": [],
   "source": [
    "tot = sum(eigval)\n",
    "\n",
    "var_exp = [(i/tot) for i in sorted(eigval, reverse=True)]\n",
    "cum_var_exp = np.cumsum(var_exp)\n",
    "\n",
    "import matplotlib.pyplot as plt\n",
    "\n",
    "plt.step(range(1, 129),cum_var_exp[:128], where='mid')\n",
    "\n",
    "plt.xlabel('Indice PC')\n",
    "plt.ylabel('Coverage')\n",
    "\n",
    "plt.tight_layout()\n",
    "plt.show()"
   ]
  },
  {
   "cell_type": "markdown",
   "id": "d7814f9d",
   "metadata": {},
   "source": [
    "# Sorting"
   ]
  },
  {
   "cell_type": "code",
   "execution_count": null,
   "id": "85e2913b",
   "metadata": {},
   "outputs": [],
   "source": [
    "sorted_eigvals = sorted(eigval, reverse=True)"
   ]
  }
 ],
 "metadata": {
  "kernelspec": {
   "display_name": "Python 3",
   "language": "python",
   "name": "python3"
  },
  "language_info": {
   "codemirror_mode": {
    "name": "ipython",
    "version": 3
   },
   "file_extension": ".py",
   "mimetype": "text/x-python",
   "name": "python",
   "nbconvert_exporter": "python",
   "pygments_lexer": "ipython3",
   "version": "3.9.5"
  }
 },
 "nbformat": 4,
 "nbformat_minor": 5
}
