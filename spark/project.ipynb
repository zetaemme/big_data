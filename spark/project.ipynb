{
 "cells": [
  {
   "cell_type": "code",
   "execution_count": 2,
   "id": "6b640cad",
   "metadata": {},
   "outputs": [],
   "source": [
    "import sys\n",
    "\n",
    "sys.path.append(\"..\")\n",
    "\n",
    "from utils.read import read_fvecs"
   ]
  },
  {
   "cell_type": "markdown",
   "id": "649592dd",
   "metadata": {},
   "source": [
    "# PCA\n",
    "## Caricamento del Dataset\n",
    "Proviamo in primis a caricare il Dataset, una matrice 10000x128 di `np.float32`"
   ]
  },
  {
   "cell_type": "code",
   "execution_count": 3,
   "id": "223b256c",
   "metadata": {},
   "outputs": [],
   "source": [
    "dataset = read_fvecs(\"../data/siftsmall_base.fvecs\")"
   ]
  },
  {
   "cell_type": "markdown",
   "id": "b61f87d3",
   "metadata": {},
   "source": [
    "## Creazione RDD\n",
    "Ora tramite `parallelize()` creiamo l'RDD che conterrà la matrice"
   ]
  },
  {
   "cell_type": "code",
   "execution_count": 81,
   "id": "c6003d14",
   "metadata": {},
   "outputs": [],
   "source": [
    "rdd = sc.parallelize(dataset)"
   ]
  },
  {
   "cell_type": "markdown",
   "id": "4e1cd777",
   "metadata": {},
   "source": [
    "## Dati per PCA\n",
    "Per procedere all'esecuzione di PCA ci servono dei dati di partenza quali:\n",
    "* N: Dimensione del dataset\n",
    "* dim: Dimensionalità del dataset\n",
    "* mean: Media del dataset\n",
    "* cov: Matrice di covarianza"
   ]
  },
  {
   "cell_type": "code",
   "execution_count": 82,
   "id": "2876c735",
   "metadata": {},
   "outputs": [],
   "source": [
    "import numpy as np\n",
    "\n",
    "mean = np.mean(rdd.collect(), axis=0)\n",
    "cov = np.cov(rdd.collect())"
   ]
  },
  {
   "cell_type": "markdown",
   "id": "b2f05be9",
   "metadata": {},
   "source": [
    "## Autovettori e Autovalori\n",
    "Calcolo degli autovettori e autovalori a partire da `cov` e sorting"
   ]
  },
  {
   "cell_type": "code",
   "execution_count": 83,
   "id": "0d14c8a7",
   "metadata": {},
   "outputs": [],
   "source": [
    "eigval, eigvec = np.linalg.eig(cov)"
   ]
  },
  {
   "cell_type": "markdown",
   "id": "4abc08d3",
   "metadata": {},
   "source": [
    "## Plotting\n",
    "Come è possibile vedere: \n",
    "* Con 12 PC abbiamo rappresentatività per (circa) il 70% del dataset \n",
    "* Con 6 (circa) il 60%\n",
    "* Con 3 tra il 50% ed il 60%"
   ]
  },
  {
   "cell_type": "code",
   "execution_count": 92,
   "id": "636e875e",
   "metadata": {},
   "outputs": [
    {
     "name": "stderr",
     "output_type": "stream",
     "text": [
      "/home/zetaemme/.local/lib/python3.9/site-packages/numpy/core/_asarray.py:102: ComplexWarning: Casting complex values to real discards the imaginary part\n",
      "  return array(a, dtype, copy=False, order=order)\n"
     ]
    },
    {
     "data": {
      "image/png": "[encoded data removed]",
      "text/plain": [
       "<Figure size 432x288 with 1 Axes>"
      ]
     },
     "metadata": {
      "needs_background": "light"
     },
     "output_type": "display_data"
    }
   ],
   "source": [
    "tot = sum(eigval)\n",
    "\n",
    "var_exp = [(i/tot) for i in sorted(eigval, reverse=True)]\n",
    "cum_var_exp = np.cumsum(var_exp)\n",
    "\n",
    "import matplotlib.pyplot as plt\n",
    "\n",
    "plt.step(range(1, 129),cum_var_exp[:128], where='mid')\n",
    "\n",
    "plt.xlabel('Indice PC')\n",
    "plt.ylabel('Coverage')\n",
    "\n",
    "plt.tight_layout()\n",
    "plt.show()"
   ]
  },
  {
   "cell_type": "markdown",
   "id": "d7814f9d",
   "metadata": {},
   "source": [
    "# Sorting"
   ]
  },
  {
   "cell_type": "code",
   "execution_count": 111,
   "id": "85e2913b",
   "metadata": {},
   "outputs": [],
   "source": [
    "eigvec = np.diag(eigvec)\n",
    "idx = eigvec.argsort()[::-1]\n",
    "\n",
    "eigval = eigval[idx]"
   ]
  },
  {
   "cell_type": "markdown",
   "id": "ca5e8d03",
   "metadata": {},
   "source": [
    "## Estrazione\n",
    "Estraiamo i 5/8 PC migliori e li usiamo come nuove assi"
   ]
  },
  {
   "cell_type": "code",
   "execution_count": 113,
   "id": "dffd7326",
   "metadata": {},
   "outputs": [
    {
     "name": "stdout",
     "output_type": "stream",
     "text": [
      "(10000,)\n"
     ]
    }
   ],
   "source": [
    "print(eigval.shape)"
   ]
  }
 ],
 "metadata": {
  "kernelspec": {
   "display_name": "Python 3",
   "language": "python",
   "name": "python3"
  },
  "language_info": {
   "codemirror_mode": {
    "name": "ipython",
    "version": 3
   },
   "file_extension": ".py",
   "mimetype": "text/x-python",
   "name": "python",
   "nbconvert_exporter": "python",
   "pygments_lexer": "ipython3",
   "version": "3.9.4"
  }
 },
 "nbformat": 4,
 "nbformat_minor": 5
}
