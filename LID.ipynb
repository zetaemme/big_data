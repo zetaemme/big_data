{
 "cells": [
  {
   "cell_type": "markdown",
   "metadata": {},
   "source": [
    "# Inizializzazione pySpark\n",
    "Tramite il package `findspark` inizializzo `SparkContext`. Date le operazioni eseguite in seguito, sarà necessario creare anche una `SparkSession`, in questo modo gli `RDD` avranno l'attributo `toDF()`"
   ]
  },
  {
   "cell_type": "code",
   "execution_count": 1,
   "metadata": {},
   "outputs": [
    {
     "name": "stderr",
     "output_type": "stream",
     "text": [
      "21/11/09 15:53:56 WARN Utils: Your hostname, equilibria.local resolves to a loopback address: 127.0.0.1; using 157.27.155.149 instead (on interface en0)\n",
      "21/11/09 15:53:56 WARN Utils: Set SPARK_LOCAL_IP if you need to bind to another address\n",
      "WARNING: An illegal reflective access operation has occurred\n",
      "WARNING: Illegal reflective access by org.apache.spark.unsafe.Platform (file:/opt/spark/jars/spark-unsafe_2.12-3.2.0.jar) to constructor java.nio.DirectByteBuffer(long,int)\n",
      "WARNING: Please consider reporting this to the maintainers of org.apache.spark.unsafe.Platform\n",
      "WARNING: Use --illegal-access=warn to enable warnings of further illegal reflective access operations\n",
      "WARNING: All illegal access operations will be denied in a future release\n",
      "Using Spark's default log4j profile: org/apache/spark/log4j-defaults.properties\n",
      "Setting default log level to \"WARN\".\n",
      "To adjust logging level use sc.setLogLevel(newLevel). For SparkR, use setLogLevel(newLevel).\n",
      "21/11/09 15:53:56 WARN NativeCodeLoader: Unable to load native-hadoop library for your platform... using builtin-java classes where applicable\n"
     ]
    }
   ],
   "source": [
    "import findspark\n",
    "\n",
    "findspark.init()\n",
    "\n",
    "from pyspark.sql import SparkSession\n",
    "from pyspark import SparkContext, SparkConf\n",
    "\n",
    "conf = SparkConf().setAppName(\"LID Project\").setMaster(\"local\")\n",
    "sc = SparkContext(conf=conf)\n",
    "ss = SparkSession(sc)"
   ]
  },
  {
   "cell_type": "markdown",
   "metadata": {},
   "source": [
    "# Caricamento del Dataset\n",
    "## Import tramite lettura del file .fvecs\n",
    "Dobbiamo in primis caricare il Dataset, tramite la funzione `read_fvecs()` otteniamo un `np.ndarray` di dimensione 10000x128. Ogni entry è di `dtype=np.float32`"
   ]
  },
  {
   "cell_type": "code",
   "execution_count": 2,
   "metadata": {},
   "outputs": [],
   "source": [
    "from utils.read import read_fvecs\n",
    "\n",
    "dataset = read_fvecs(\"data/siftsmall_base.fvecs\")\n"
   ]
  },
  {
   "cell_type": "markdown",
   "metadata": {},
   "source": [
    "## Creazione della matrice\n",
    "Ora tramite `parallelize()` creiamo l'RDD che conterrà la matrice. Per riportare poi il tutto in forma matriciale trasformiamo l'RDD in una `RowMatrix`"
   ]
  },
  {
   "cell_type": "code",
   "execution_count": 3,
   "metadata": {},
   "outputs": [],
   "source": [
    "from pyspark.mllib.linalg.distributed import RowMatrix\n",
    "\n",
    "rdd = sc.parallelize(dataset)\n",
    "dataset_matrix = RowMatrix(rdd)"
   ]
  },
  {
   "cell_type": "markdown",
   "metadata": {},
   "source": [
    "# PCA\n",
    "Come prima cosa proviamo una tecnica conosciuta per vedere fino a dove possiamo arrivare con questo dataset, nello specifico **PCA**\n",
    "\n",
    "## Matrice di covarianza\n",
    "Il primo passaggio per eseguire PCA è calcolare la *Matrice di covarianza*. Facciamo questo tramite la funzione `computeCovariace()`, che ci restituisce una `DenseMatrix`"
   ]
  },
  {
   "cell_type": "code",
   "execution_count": 4,
   "metadata": {},
   "outputs": [
    {
     "name": "stderr",
     "output_type": "stream",
     "text": [
      "21/11/09 15:53:57 WARN TaskSetManager: Stage 0 contains a task of very large size (5250 KiB). The maximum recommended task size is 1000 KiB.\n",
      "21/11/09 15:53:59 WARN TaskSetManager: Stage 1 contains a task of very large size (5250 KiB). The maximum recommended task size is 1000 KiB.\n",
      "21/11/09 15:53:59 WARN TaskSetManager: Stage 2 contains a task of very large size (5250 KiB). The maximum recommended task size is 1000 KiB.\n",
      "21/11/09 15:53:59 WARN TaskSetManager: Stage 3 contains a task of very large size (5250 KiB). The maximum recommended task size is 1000 KiB.\n",
      "21/11/09 15:53:59 WARN InstanceBuilder$NativeBLAS: Failed to load implementation from:dev.ludovic.netlib.blas.JNIBLAS\n",
      "21/11/09 15:53:59 WARN InstanceBuilder$NativeBLAS: Failed to load implementation from:dev.ludovic.netlib.blas.ForeignLinkerBLAS\n"
     ]
    }
   ],
   "source": [
    "covariance_matrix = dataset_matrix.computeCovariance()"
   ]
  },
  {
   "cell_type": "markdown",
   "metadata": {},
   "source": [
    "## Autovalori e Autovettori\n",
    "Estraiamo ora *autovalori* e *autovettori* da `covariance_matrix`. In PySpark non è possibile eseguire quest'operazione, non essendo fornita nella MLlib, porto quindi tutto in un `np.ndarray` e utilizzo la funzione `np.linalg.eigh()` il calcolo.<br>\n",
    "Viene utilizzato `eigh()` al posto di `eig()` in quanto è \"più stabile\" su matrici di covarianza."
   ]
  },
  {
   "cell_type": "code",
   "execution_count": 5,
   "metadata": {},
   "outputs": [],
   "source": [
    "from numpy.linalg import eigh\n",
    "\n",
    "np_cov_matrix = covariance_matrix.toArray()\n",
    "\n",
    "eigen_vals, eigen_vecs = eigh(np_cov_matrix)"
   ]
  },
  {
   "cell_type": "markdown",
   "metadata": {},
   "source": [
    "## Varianza totale e spiegata\n",
    "Calcoliamo ora la *varianza totale*, in questo modo potremo osservare le componenti principali del dataset e la loro rappresentatività. Riporto tutto in forma di `RDD` ed eseguo i calcoli."
   ]
  },
  {
   "cell_type": "code",
   "execution_count": 6,
   "metadata": {},
   "outputs": [],
   "source": [
    "from numpy import array, cumsum\n",
    "\n",
    "ev_rdd = sc.parallelize(eigen_vals)\n",
    "\n",
    "total = ev_rdd.sum()\n",
    "var_exp = sc.parallelize(ev_rdd.takeOrdered(ev_rdd.count(), key=lambda x: -x))\\\n",
    "            .map(lambda x: x / total)\\\n",
    "            .collect()\n",
    "\n",
    "cum_var_exp = cumsum(array(var_exp))"
   ]
  },
  {
   "cell_type": "markdown",
   "metadata": {},
   "source": [
    "## Plotting\n",
    "Stampiamo ora le componenti principali e la varianza, in modo da poter analizzare quanto ci è consentito \"tagliare\".<br>\n",
    "Nel grafico sono rappresentate solo le prime 35 features per avere più chiarezza nella visualizzazione."
   ]
  },
  {
   "cell_type": "code",
   "execution_count": 7,
   "metadata": {},
   "outputs": [
    {
     "name": "stderr",
     "output_type": "stream",
     "text": [
      "Unable to revert mtime: /Library/Fonts\n",
      "Fontconfig warning: ignoring UTF-8: not a valid region tag\n"
     ]
    },
    {
     "data": {
      "image/png": "[encoded data removed]",
      "text/plain": [
       "<Figure size 432x288 with 1 Axes>"
      ]
     },
     "metadata": {
      "needs_background": "light"
     },
     "output_type": "display_data"
    }
   ],
   "source": [
    "import matplotlib.pyplot as plt\n",
    "\n",
    "# MAX: 128\n",
    "plt.bar(range(35), var_exp[:35], align=\"center\", color=\"red\")\n",
    "plt.step(range(35), cum_var_exp[:35], where=\"mid\")\n",
    "plt.ylabel(\"Varianza Spiegata\")\n",
    "plt.xlabel(\"Componenti Principali\")\n",
    "plt.show()"
   ]
  }
 ],
 "metadata": {
  "interpreter": {
   "hash": "09ecd0348478a1a2cde98c360adc00050098572b8879c23326ed7744dd8a4e3a"
  },
  "kernelspec": {
   "display_name": "Python 3.9.7 64-bit ('pyspark': conda)",
   "name": "python3"
  },
  "language_info": {
   "codemirror_mode": {
    "name": "ipython",
    "version": 3
   },
   "file_extension": ".py",
   "mimetype": "text/x-python",
   "name": "python",
   "nbconvert_exporter": "python",
   "pygments_lexer": "ipython3",
   "version": "3.9.7"
  }
 },
 "nbformat": 4,
 "nbformat_minor": 5
}
