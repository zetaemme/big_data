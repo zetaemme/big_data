{
 "cells": [
  {
   "cell_type": "markdown",
   "metadata": {},
   "source": [
    "# Inizializzazione pySpark\n",
    "Tramite il package `findspark` inizializzo `SparkContext`"
   ]
  },
  {
   "cell_type": "code",
   "execution_count": null,
   "metadata": {},
   "outputs": [],
   "source": [
    "import findspark\n",
    "\n",
    "findspark.init()\n",
    "\n",
    "from pyspark import SparkContext, SparkConf\n",
    "from pyspark.sql import SparkSession\n",
    "\n",
    "conf = SparkConf().setAppName(\"LID Project\").setMaster(\"local\")\n",
    "sc = SparkContext(conf=conf)\n",
    "ss = SparkSession(sc)"
   ]
  },
  {
   "cell_type": "markdown",
   "metadata": {},
   "source": [
    "# Caricamento del Dataset\n",
    "## Import tramite lettura del file .fvecs\n",
    "Proviamo in primis a caricare il Dataset, un `np.ndarray` di dimensione 10000x128. Ogni entry è di `dtype=np.float32`"
   ]
  },
  {
   "cell_type": "code",
   "execution_count": 2,
   "metadata": {},
   "outputs": [],
   "source": [
    "from utils.read import read_fvecs\n",
    "\n",
    "dataset = read_fvecs(\"data/siftsmall_base.fvecs\")"
   ]
  },
  {
   "cell_type": "markdown",
   "metadata": {},
   "source": [
    "## Creazione matrice\n",
    "Ora tramite `parallelize()` creiamo l'RDD che conterrà la matrice. Andranno fatte delle operazioni preliminari per trasformare ogni entry nel dataset in una `MatrixEntry`, dato che dovremo raggrupparle in una `CoordinateMatrix`"
   ]
  },
  {
   "cell_type": "code",
   "execution_count": null,
   "metadata": {},
   "outputs": [],
   "source": [
    "import numpy as np\n",
    "from pyspark.mllib.linalg.distributed import CoordinateMatrix, MatrixEntry\n",
    "\n",
    "entries_list = [MatrixEntry(coordinates[0], coordinates[1], entry) for coordinates, entry in np.ndenumerate(dataset)]\n",
    "\n",
    "entries = sc.parallelize(entries_list)\n",
    "\n",
    "dataset_matrix = CoordinateMatrix(entries=entries)"
   ]
  }
 ],
 "metadata": {
  "interpreter": {
   "hash": "09ecd0348478a1a2cde98c360adc00050098572b8879c23326ed7744dd8a4e3a"
  },
  "kernelspec": {
   "display_name": "Python 3.9.7 64-bit ('pyspark': conda)",
   "name": "python3"
  },
  "language_info": {
   "codemirror_mode": {
    "name": "ipython",
    "version": 3
   },
   "file_extension": ".py",
   "mimetype": "text/x-python",
   "name": "python",
   "nbconvert_exporter": "python",
   "pygments_lexer": "ipython3",
   "version": "3.9.7"
  }
 },
 "nbformat": 4,
 "nbformat_minor": 5
}
